{
 "cells": [
  {
   "cell_type": "markdown",
   "id": "682e8259",
   "metadata": {},
   "source": [
    "## 1 Function to Summarize a Text File"
   ]
  },
  {
   "cell_type": "code",
   "execution_count": null,
   "id": "c9661121",
   "metadata": {},
   "outputs": [],
   "source": [
    "def summarize_text_file(filename):\n",
    "    with open(filename, 'r') as file:\n",
    "        content = file.read()\n",
    "        lines = content.split('/n')\n",
    "        words = content.split()\n",
    "        characters = list(content.replace('/n', ''))\n",
    "    return len(lines), len(words), len(characters)"
   ]
  },
  {
   "cell_type": "markdown",
   "id": "46cd5042",
   "metadata": {},
   "source": [
    "## 2 Palindrome Checker"
   ]
  },
  {
   "cell_type": "code",
   "execution_count": 27,
   "id": "521e12f3",
   "metadata": {},
   "outputs": [],
   "source": [
    "def is_palindrome(s):\n",
    "    clean_str = s.replace(' ', '').lower()\n",
    "    str_reversed = clean_str[::-1]\n",
    "    if clean_str == str_reversed:\n",
    "        return True\n",
    "    else:\n",
    "        return False"
   ]
  },
  {
   "cell_type": "code",
   "execution_count": 33,
   "id": "7e6ac8e2",
   "metadata": {},
   "outputs": [
    {
     "data": {
      "text/plain": [
       "True"
      ]
     },
     "execution_count": 33,
     "metadata": {},
     "output_type": "execute_result"
    }
   ],
   "source": [
    "is_palindrome('racecar')"
   ]
  },
  {
   "cell_type": "markdown",
   "id": "6923538d",
   "metadata": {},
   "source": [
    "## 3 Basic Calculator"
   ]
  },
  {
   "cell_type": "code",
   "execution_count": 25,
   "id": "ccf8b82f",
   "metadata": {},
   "outputs": [],
   "source": [
    "def calculator(num1, num2, operation):\n",
    "    if operation == 'add':\n",
    "        return num1 + num2\n",
    "    elif operation == 'subtract':\n",
    "        return num1 - num2\n",
    "    elif operation == 'multiply':\n",
    "        return num1 * num2\n",
    "    elif operation == 'divide':\n",
    "        return num1 / num2 if num2 != 0 else \"Error: Zero Division Error\"\n",
    "    else:\n",
    "        return \"Error: Unknown Operation\""
   ]
  },
  {
   "cell_type": "code",
   "execution_count": 1,
   "id": "ec3ef9b5",
   "metadata": {
    "scrolled": true
   },
   "outputs": [
    {
     "ename": "NameError",
     "evalue": "name 'calculator' is not defined",
     "output_type": "error",
     "traceback": [
      "\u001b[1;31m---------------------------------------------------------------------------\u001b[0m",
      "\u001b[1;31mNameError\u001b[0m                                 Traceback (most recent call last)",
      "\u001b[1;32mc:\\Users\\Dan\\OneDrive\\Desktop\\DataEngineering\\PragmaticCoders\\Python Practice Github repo.ipynb Cell 8\u001b[0m line \u001b[0;36m1\n\u001b[1;32m----> <a href='vscode-notebook-cell:/c%3A/Users/Dan/OneDrive/Desktop/DataEngineering/PragmaticCoders/Python%20Practice%20Github%20repo.ipynb#X10sZmlsZQ%3D%3D?line=0'>1</a>\u001b[0m calculator(\u001b[39m15\u001b[39m, \u001b[39m0\u001b[39m, \u001b[39m'\u001b[39m\u001b[39mtimes\u001b[39m\u001b[39m'\u001b[39m)\n",
      "\u001b[1;31mNameError\u001b[0m: name 'calculator' is not defined"
     ]
    }
   ],
   "source": [
    "calculator(15, 0, 'times')"
   ]
  },
  {
   "cell_type": "markdown",
   "id": "3247aacb",
   "metadata": {},
   "source": [
    "## 4 Frequency Counter"
   ]
  },
  {
   "cell_type": "code",
   "execution_count": 51,
   "id": "45b49403",
   "metadata": {},
   "outputs": [],
   "source": [
    "def frequency_counter(numbers):\n",
    "    frequency = {}\n",
    "    for n in numbers:\n",
    "        frequency[n] = frequency.get(n, 0) + 1\n",
    "    return frequency"
   ]
  },
  {
   "cell_type": "code",
   "execution_count": 52,
   "id": "0ce49f6e",
   "metadata": {
    "scrolled": true
   },
   "outputs": [
    {
     "data": {
      "text/plain": [
       "{1: 2, 2: 1, 3: 1}"
      ]
     },
     "execution_count": 52,
     "metadata": {},
     "output_type": "execute_result"
    }
   ],
   "source": [
    "numbers = (1, 1, 2, 3)\n",
    "frequency_counter(numbers)\n"
   ]
  },
  {
   "cell_type": "markdown",
   "id": "aace4b1f",
   "metadata": {},
   "source": [
    "## 5 Data Filter"
   ]
  },
  {
   "cell_type": "code",
   "execution_count": null,
   "id": "3283e9c6",
   "metadata": {},
   "outputs": [],
   "source": [
    "def filter_by_profession(people, profession):\n",
    "    return [person for person in people if person['profession'].lower() == profession.lower()]"
   ]
  },
  {
   "cell_type": "markdown",
   "id": "07fff735",
   "metadata": {},
   "source": [
    "## 6 Temperature Converter"
   ]
  },
  {
   "cell_type": "code",
   "execution_count": 77,
   "id": "8501a3a0",
   "metadata": {},
   "outputs": [],
   "source": [
    "def convert_temperature(temp, type):\n",
    "    if type == 'F':\n",
    "        return \"The temperature is \" + str(round((temp - 32) * 5/9, 1)) + \" degrees Celsius\"\n",
    "    elif type == 'C':\n",
    "        return \"The temperature is \" + str(round((temp * 9/5) + 32, 1)) + \" degrees Farenheit\"\n",
    "    else:\n",
    "        return \"Error: Unknown type\""
   ]
  },
  {
   "cell_type": "code",
   "execution_count": 78,
   "id": "bd4fbd93",
   "metadata": {
    "scrolled": false
   },
   "outputs": [
    {
     "data": {
      "text/plain": [
       "'The temperature is 161.6 degrees Farenheit'"
      ]
     },
     "execution_count": 78,
     "metadata": {},
     "output_type": "execute_result"
    }
   ],
   "source": [
    "convert_temperature(72, 'C')"
   ]
  },
  {
   "cell_type": "markdown",
   "id": "c1037360",
   "metadata": {},
   "source": [
    "## 7 Prime Number Finder"
   ]
  },
  {
   "cell_type": "code",
   "execution_count": 82,
   "id": "d8137b0a",
   "metadata": {},
   "outputs": [],
   "source": [
    "def find_primes(n):\n",
    "    primes = []\n",
    "    for i in range(2, n+1):\n",
    "        is_prime = True\n",
    "        for j in range(2, int(i ** 0.5) + 1):\n",
    "            if i % j == 0:\n",
    "                is_prime = False\n",
    "                break\n",
    "        if is_prime:\n",
    "            primes.append(i)\n",
    "    return primes"
   ]
  },
  {
   "cell_type": "code",
   "execution_count": 86,
   "id": "28e6e182",
   "metadata": {
    "scrolled": false
   },
   "outputs": [
    {
     "data": {
      "text/plain": [
       "[2, 3, 5, 7, 11, 13, 17, 19]"
      ]
     },
     "execution_count": 86,
     "metadata": {},
     "output_type": "execute_result"
    }
   ],
   "source": [
    "find_primes(20)"
   ]
  },
  {
   "cell_type": "markdown",
   "id": "4602af1c",
   "metadata": {},
   "source": [
    "## 8 List Flattener"
   ]
  },
  {
   "cell_type": "code",
   "execution_count": null,
   "id": "2bcd01cb",
   "metadata": {},
   "outputs": [],
   "source": [
    "def flatten_list(nested_list):\n",
    "    flat_list = []\n",
    "    for i in nested_list:\n",
    "        for j in i:\n",
    "            flat_list.append(j)\n",
    "    return flat_list\n",
    "    "
   ]
  },
  {
   "cell_type": "markdown",
   "id": "54f02094",
   "metadata": {},
   "source": [
    "## 8.1 Better List Flattener with Recurssion"
   ]
  },
  {
   "cell_type": "code",
   "execution_count": null,
   "id": "131222b1",
   "metadata": {},
   "outputs": [],
   "source": [
    "def flatten_list(nested_list):\n",
    "    flat_list = []\n",
    "    for element in nested_list:\n",
    "        if isinstance(element, list):\n",
    "            flat_list.extend(flatten_list(element))\n",
    "        else:\n",
    "            flat_list.append(element)\n",
    "    return flat_list"
   ]
  },
  {
   "cell_type": "markdown",
   "id": "af5547fb",
   "metadata": {},
   "source": [
    "## Unique Elements"
   ]
  },
  {
   "cell_type": "code",
   "execution_count": null,
   "id": "7b1f0b77",
   "metadata": {},
   "outputs": [],
   "source": [
    "def unique_elements(lst):\n",
    "    return list(set(lst))"
   ]
  },
  {
   "cell_type": "markdown",
   "id": "485b454e",
   "metadata": {},
   "source": [
    "## String Reverser"
   ]
  },
  {
   "cell_type": "code",
   "execution_count": 88,
   "id": "1793a427",
   "metadata": {},
   "outputs": [
    {
     "name": "stdout",
     "output_type": "stream",
     "text": [
      "gnirts\n"
     ]
    }
   ],
   "source": [
    "def reverse_string(s):\n",
    "    reversed_str = s[::-1]\n",
    "    print(reversed_str)\n",
    "    \n",
    "reverse_string('string')"
   ]
  },
  {
   "cell_type": "markdown",
   "id": "c7024afd",
   "metadata": {},
   "source": [
    "## Dictionary Merger"
   ]
  },
  {
   "cell_type": "code",
   "execution_count": null,
   "id": "b5a01c31",
   "metadata": {},
   "outputs": [],
   "source": [
    "def merge_dictionaries(dict1, dict2):\n",
    "    merged_dict = dict1.copy()\n",
    "    merged_dict.update(dict2)\n",
    "    return merged_dict"
   ]
  },
  {
   "cell_type": "markdown",
   "id": "0036e52b",
   "metadata": {},
   "source": [
    "## Multiplication Table Printer\n"
   ]
  },
  {
   "cell_type": "code",
   "execution_count": 93,
   "id": "8a06d293",
   "metadata": {},
   "outputs": [
    {
     "name": "stdout",
     "output_type": "stream",
     "text": [
      "1: 1 2 3 4 5 6 7 8 9 \n",
      "2: 2 4 6 8 10 12 14 16 18 \n",
      "3: 3 6 9 12 15 18 21 24 27 \n",
      "4: 4 8 12 16 20 24 28 32 36 \n",
      "5: 5 10 15 20 25 30 35 40 45 \n",
      "6: 6 12 18 24 30 36 42 48 54 \n",
      "7: 7 14 21 28 35 42 49 56 63 \n",
      "8: 8 16 24 32 40 48 56 64 72 \n",
      "9: 9 18 27 36 45 54 63 72 81 \n"
     ]
    }
   ],
   "source": [
    "def print_multiplication_table(n):\n",
    "    for i in range(1, n+1):\n",
    "        print(f\"{i}: \", end='')\n",
    "        for j in range(1, n+1):\n",
    "            print(f\"{i * j} \", end='')\n",
    "        print()\n",
    "        \n",
    "print_multiplication_table(9)"
   ]
  },
  {
   "cell_type": "markdown",
   "id": "cc7d07a3",
   "metadata": {},
   "source": [
    "## Email Validator"
   ]
  },
  {
   "cell_type": "code",
   "execution_count": 97,
   "id": "d85b203c",
   "metadata": {},
   "outputs": [
    {
     "data": {
      "text/plain": [
       "True"
      ]
     },
     "execution_count": 97,
     "metadata": {},
     "output_type": "execute_result"
    }
   ],
   "source": [
    "def is_valid_email(email):\n",
    "    return '@' in email and '.' in email and email.count('@') == 1 and email[email.index('@')+1:].count('.') >= 1\n",
    "is_valid_email('daniel.gay8409@gmail.com')"
   ]
  },
  {
   "cell_type": "markdown",
   "id": "83d5c7cb",
   "metadata": {},
   "source": [
    "## Word Occurrence in Sentence"
   ]
  },
  {
   "cell_type": "code",
   "execution_count": null,
   "id": "20018ff3",
   "metadata": {},
   "outputs": [],
   "source": []
  },
  {
   "cell_type": "code",
   "execution_count": null,
   "id": "8ec8cfe1",
   "metadata": {},
   "outputs": [],
   "source": []
  },
  {
   "cell_type": "code",
   "execution_count": null,
   "id": "5e239b78",
   "metadata": {},
   "outputs": [],
   "source": []
  },
  {
   "cell_type": "code",
   "execution_count": null,
   "id": "2a18959b",
   "metadata": {},
   "outputs": [],
   "source": []
  },
  {
   "cell_type": "code",
   "execution_count": null,
   "id": "ffdafb93",
   "metadata": {},
   "outputs": [],
   "source": []
  },
  {
   "cell_type": "code",
   "execution_count": null,
   "id": "9606020a",
   "metadata": {},
   "outputs": [],
   "source": []
  },
  {
   "cell_type": "code",
   "execution_count": null,
   "id": "11ac4ad3",
   "metadata": {},
   "outputs": [],
   "source": []
  },
  {
   "cell_type": "code",
   "execution_count": null,
   "id": "09d3cd48",
   "metadata": {},
   "outputs": [],
   "source": []
  },
  {
   "cell_type": "code",
   "execution_count": null,
   "id": "ca9343f2",
   "metadata": {},
   "outputs": [],
   "source": []
  }
 ],
 "metadata": {
  "kernelspec": {
   "display_name": "Python 3 (ipykernel)",
   "language": "python",
   "name": "python3"
  },
  "language_info": {
   "codemirror_mode": {
    "name": "ipython",
    "version": 3
   },
   "file_extension": ".py",
   "mimetype": "text/x-python",
   "name": "python",
   "nbconvert_exporter": "python",
   "pygments_lexer": "ipython3",
   "version": "3.11.6"
  }
 },
 "nbformat": 4,
 "nbformat_minor": 5
}
